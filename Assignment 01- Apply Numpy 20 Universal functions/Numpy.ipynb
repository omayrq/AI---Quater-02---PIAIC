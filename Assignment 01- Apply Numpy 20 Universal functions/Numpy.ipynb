{
 "cells": [
  {
   "attachments": {},
   "cell_type": "markdown",
   "metadata": {},
   "source": [
    "# Apply Numpy 20 Universal functions "
   ]
  },
  {
   "cell_type": "code",
   "execution_count": 1,
   "metadata": {},
   "outputs": [],
   "source": [
    "import numpy as np"
   ]
  },
  {
   "cell_type": "code",
   "execution_count": 2,
   "metadata": {},
   "outputs": [],
   "source": [
    "a = np.array([-2, -1, 0, 1, 2])"
   ]
  },
  {
   "cell_type": "code",
   "execution_count": 3,
   "metadata": {},
   "outputs": [
    {
     "name": "stdout",
     "output_type": "stream",
     "text": [
      "[2 1 0 1 2]\n"
     ]
    }
   ],
   "source": [
    "# 01 - Absolute value\n",
    "print(np.abs(a))  # [2 1 0 1 2]"
   ]
  },
  {
   "cell_type": "code",
   "execution_count": 4,
   "metadata": {},
   "outputs": [
    {
     "name": "stdout",
     "output_type": "stream",
     "text": [
      "[1 3 5 7 9]\n"
     ]
    }
   ],
   "source": [
    "# 02 - Addition\n",
    "b = np.array([3, 4, 5, 6, 7])\n",
    "print(np.add(a, b))  # [1 3 5 7 9]"
   ]
  },
  {
   "cell_type": "code",
   "execution_count": 5,
   "metadata": {},
   "outputs": [
    {
     "name": "stdout",
     "output_type": "stream",
     "text": [
      "[5 5 5 5 5]\n"
     ]
    }
   ],
   "source": [
    "# 03 - Subtraction\n",
    "print(np.subtract(b, a))  # [5 5 5 5 5]\n"
   ]
  },
  {
   "cell_type": "code",
   "execution_count": 6,
   "metadata": {},
   "outputs": [
    {
     "name": "stdout",
     "output_type": "stream",
     "text": [
      "[-6 -4  0  6 14]\n"
     ]
    }
   ],
   "source": [
    "# 04 - Multiplication\n",
    "print(np.multiply(a, b))  # [-6 -4 0 6 14]"
   ]
  },
  {
   "cell_type": "code",
   "execution_count": 7,
   "metadata": {},
   "outputs": [
    {
     "name": "stdout",
     "output_type": "stream",
     "text": [
      "[-1.5 -4.   inf  6.   3.5]\n"
     ]
    },
    {
     "name": "stderr",
     "output_type": "stream",
     "text": [
      "C:\\Users\\HP ZBOOK 17\\AppData\\Local\\Temp\\ipykernel_11804\\3583872946.py:2: RuntimeWarning: divide by zero encountered in divide\n",
      "  print(np.divide(b, a))  # [-1.5 -4. inf 6. inf]\n"
     ]
    }
   ],
   "source": [
    "# 05 - Division\n",
    "print(np.divide(b, a))  # [-1.5 -4. inf 6. inf]\n"
   ]
  },
  {
   "cell_type": "code",
   "execution_count": 8,
   "metadata": {},
   "outputs": [
    {
     "name": "stdout",
     "output_type": "stream",
     "text": [
      "[0.13533528 0.36787944 1.         2.71828183 7.3890561 ]\n"
     ]
    }
   ],
   "source": [
    "# 06 - Exponentiation\n",
    "print(np.exp(a))  # [0.13533528 0.36787944 1.         2.71828183 7.3890561 ]\n"
   ]
  },
  {
   "cell_type": "code",
   "execution_count": 9,
   "metadata": {},
   "outputs": [
    {
     "name": "stdout",
     "output_type": "stream",
     "text": [
      "[0.69314718 0.               -inf 0.         0.69314718]\n"
     ]
    },
    {
     "name": "stderr",
     "output_type": "stream",
     "text": [
      "C:\\Users\\HP ZBOOK 17\\AppData\\Local\\Temp\\ipykernel_11804\\2753856065.py:2: RuntimeWarning: divide by zero encountered in log\n",
      "  print(np.log(np.abs(a)))  # [0.69314718 0.69314718 -inf 0.         0.69314718]\n"
     ]
    }
   ],
   "source": [
    "# 07 - Natural logarithm\n",
    "print(np.log(np.abs(a)))  # [0.69314718 0.69314718 -inf 0.         0.69314718]\n"
   ]
  },
  {
   "cell_type": "code",
   "execution_count": 10,
   "metadata": {},
   "outputs": [
    {
     "name": "stdout",
     "output_type": "stream",
     "text": [
      "[0.30103 0.         -inf 0.      0.30103]\n"
     ]
    },
    {
     "name": "stderr",
     "output_type": "stream",
     "text": [
      "C:\\Users\\HP ZBOOK 17\\AppData\\Local\\Temp\\ipykernel_11804\\2194247547.py:2: RuntimeWarning: divide by zero encountered in log10\n",
      "  print(np.log10(np.abs(a)))  # [0.30103    0.30103    -inf 0.         0.30103   ]\n"
     ]
    }
   ],
   "source": [
    "# 08 - Logarithm to base 10\n",
    "print(np.log10(np.abs(a)))  # [0.30103    0.30103    -inf 0.         0.30103   ]\n"
   ]
  },
  {
   "cell_type": "code",
   "execution_count": 11,
   "metadata": {},
   "outputs": [
    {
     "name": "stdout",
     "output_type": "stream",
     "text": [
      "[1.41421356 1.         0.         1.         1.41421356]\n"
     ]
    }
   ],
   "source": [
    "# 09 - Square root\n",
    "print(np.sqrt(np.abs(a)))  # [1.41421356 1.         0.         1.         1.41421356]\n"
   ]
  },
  {
   "cell_type": "code",
   "execution_count": 12,
   "metadata": {},
   "outputs": [
    {
     "name": "stdout",
     "output_type": "stream",
     "text": [
      "[ -8   1   0   1 128]\n"
     ]
    }
   ],
   "source": [
    "# 10 - Power\n",
    "print(np.power(a, b))  # [-8 1 0 1 128]\n"
   ]
  },
  {
   "cell_type": "code",
   "execution_count": 13,
   "metadata": {},
   "outputs": [
    {
     "name": "stdout",
     "output_type": "stream",
     "text": [
      "[3 4 5 6 7]\n"
     ]
    }
   ],
   "source": [
    "# 11 - Maximum\n",
    "print(np.maximum(a, b))  # [3 4 5 6 7]\n"
   ]
  },
  {
   "cell_type": "code",
   "execution_count": 14,
   "metadata": {},
   "outputs": [
    {
     "name": "stdout",
     "output_type": "stream",
     "text": [
      "[-2 -1  0  1  2]\n"
     ]
    }
   ],
   "source": [
    "# 12 - Minimum\n",
    "print(np.minimum(a, b))  # [-2 -1 0 1 2]"
   ]
  },
  {
   "cell_type": "code",
   "execution_count": 15,
   "metadata": {},
   "outputs": [
    {
     "name": "stdout",
     "output_type": "stream",
     "text": [
      "[-1  0  0  0  1]\n"
     ]
    },
    {
     "name": "stderr",
     "output_type": "stream",
     "text": [
      "C:\\Users\\HP ZBOOK 17\\AppData\\Local\\Temp\\ipykernel_11804\\3291855529.py:2: RuntimeWarning: divide by zero encountered in remainder\n",
      "  print(np.mod(b, a))  # [1 3 5 0 2]\n"
     ]
    }
   ],
   "source": [
    "# 13 - Modulo\n",
    "print(np.mod(b, a))  # [1 3 5 0 2]"
   ]
  },
  {
   "cell_type": "code",
   "execution_count": 16,
   "metadata": {},
   "outputs": [
    {
     "name": "stdout",
     "output_type": "stream",
     "text": [
      "[-2. -1.  0.  1.  2.]\n"
     ]
    }
   ],
   "source": [
    "# 14 - Ceiling\n",
    "print(np.ceil(a))  # [-2 -1 0 1 2]"
   ]
  },
  {
   "cell_type": "code",
   "execution_count": 17,
   "metadata": {},
   "outputs": [
    {
     "name": "stdout",
     "output_type": "stream",
     "text": [
      "[-2. -1.  0.  1.  2.]\n"
     ]
    }
   ],
   "source": [
    "# 15 - Floor\n",
    "print(np.floor(a))  # [-3 -2 -0 1 2]"
   ]
  },
  {
   "cell_type": "code",
   "execution_count": 18,
   "metadata": {},
   "outputs": [
    {
     "name": "stdout",
     "output_type": "stream",
     "text": [
      "[-0.41614684  0.54030231  1.          0.54030231 -0.41614684]\n"
     ]
    }
   ],
   "source": [
    "# 16 - Cosine\n",
    "print(np.cos(a))  # [ 0.41614684 -0.54030231  1.          0.54030231 -0.41614684]\n"
   ]
  },
  {
   "cell_type": "code",
   "execution_count": 19,
   "metadata": {},
   "outputs": [
    {
     "name": "stdout",
     "output_type": "stream",
     "text": [
      "[-0.90929743 -0.84147098  0.          0.84147098  0.90929743]\n"
     ]
    }
   ],
   "source": [
    "# 17 - Sine\n",
    "print(np.sin(a))  # [0.90929743 0.84147098 0.         0.84147098 0.90929743]\n"
   ]
  },
  {
   "cell_type": "code",
   "execution_count": 20,
   "metadata": {},
   "outputs": [
    {
     "name": "stdout",
     "output_type": "stream",
     "text": [
      "[ 2.18503986 -1.55740772  0.          1.55740772 -2.18503986]\n"
     ]
    }
   ],
   "source": [
    "# 18 - Tangent\n",
    "print(np.tan(a))  # [-2.18503986 -1.55740772 0.         1.55740772 2.18503986]\n"
   ]
  },
  {
   "cell_type": "code",
   "execution_count": 21,
   "metadata": {},
   "outputs": [
    {
     "name": "stdout",
     "output_type": "stream",
     "text": [
      "[1.98231317 1.77215425 1.57079633 1.36943841 1.15927948]\n"
     ]
    }
   ],
   "source": [
    "# 19 - Inverse cosine\n",
    "print(np.arccos(a/5))  # [2.67794505 2.14675497 1.57079633 1.14675497 0.67794505]\n"
   ]
  },
  {
   "cell_type": "code",
   "execution_count": 22,
   "metadata": {},
   "outputs": [
    {
     "name": "stdout",
     "output_type": "stream",
     "text": [
      "[-0.41151685 -0.20135792  0.          0.20135792  0.41151685]\n"
     ]
    }
   ],
   "source": [
    "# 20 - Inverse sine\n",
    "print(np.arcsin(a/5))  # [-1.36980409 -0.92729522 0.         0.92729522 1.36980409]\n"
   ]
  },
  {
   "attachments": {},
   "cell_type": "markdown",
   "metadata": {},
   "source": [
    "# np.abs\n",
    "# np.add\n",
    "# np.subtract\n",
    "# np.multiply\n",
    "# np.divide\n",
    "# np.exp\n",
    "# np.log\n",
    "# np.log10\n",
    "# np.sqrt\n",
    "# np.power\n",
    "# np.maximum\n",
    "# np.minimum\n",
    "# np.mod\n",
    "# np.ceil\n",
    "# np.floor\n",
    "# np.cos\n",
    "# np.sin\n",
    "# np.tan\n",
    "# np.arccos\n",
    "# np.arcsin"
   ]
  },
  {
   "cell_type": "code",
   "execution_count": null,
   "metadata": {},
   "outputs": [],
   "source": []
  }
 ],
 "metadata": {
  "kernelspec": {
   "display_name": "base",
   "language": "python",
   "name": "python3"
  },
  "language_info": {
   "codemirror_mode": {
    "name": "ipython",
    "version": 3
   },
   "file_extension": ".py",
   "mimetype": "text/x-python",
   "name": "python",
   "nbconvert_exporter": "python",
   "pygments_lexer": "ipython3",
   "version": "3.9.12"
  },
  "orig_nbformat": 4,
  "vscode": {
   "interpreter": {
    "hash": "806d670c7bb2cbe074590fc196bfaf591c17bcc1c3e5afa2a6f71dcbde559284"
   }
  }
 },
 "nbformat": 4,
 "nbformat_minor": 2
}
